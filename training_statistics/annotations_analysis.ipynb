{
 "cells": [
  {
   "cell_type": "code",
   "execution_count": 1,
   "metadata": {},
   "outputs": [],
   "source": [
    "import json\n",
    "from statistics_functions import StatisticsFunctions\n"
   ]
  },
  {
   "cell_type": "code",
   "execution_count": 2,
   "metadata": {},
   "outputs": [],
   "source": [
    "annotations_path = \"/home/swarm/Documents/Number_Of_Cuts/data/train_data.json\"\n",
    "with open(annotations_path, \"r\") as file:\n",
    "    annotations = json.load(file)"
   ]
  },
  {
   "cell_type": "code",
   "execution_count": 3,
   "metadata": {},
   "outputs": [
    {
     "data": {
      "text/plain": [
       "830"
      ]
     },
     "execution_count": 3,
     "metadata": {},
     "output_type": "execute_result"
    }
   ],
   "source": [
    "len(annotations)"
   ]
  },
  {
   "cell_type": "code",
   "execution_count": 4,
   "metadata": {},
   "outputs": [
    {
     "data": {
      "text/plain": [
       "{'frame_num': 36048,\n",
       " 'event_name': 'cold snare',\n",
       " 'video_filename': 'coloscopie_2022-02-08_08-49-05_HeilEndoBox',\n",
       " 'polyp_id': 1,\n",
       " 'crop': [0, 1080, 232, 1692],\n",
       " 'fps': 50,\n",
       " 'fold': 47,\n",
       " 'tool': 'cold snare',\n",
       " 'resection_number': 256,\n",
       " 'last_cut': False,\n",
       " 'first_cut': False,\n",
       " 'status': 'Verified',\n",
       " 'idx': 429,\n",
       " 'cut_frame': 36218}"
      ]
     },
     "execution_count": 4,
     "metadata": {},
     "output_type": "execute_result"
    }
   ],
   "source": [
    "annotations[10]"
   ]
  },
  {
   "attachments": {},
   "cell_type": "markdown",
   "metadata": {},
   "source": [
    "# Snare cuts data analysis\n",
    "\n",
    "For the paper we are going to need to report on the data, so its good to have this analysis ready.\n",
    "We need the following:\n",
    "\n",
    "- number of cuts of all examination\n",
    "- number of first cuts (= number of resections)\n",
    "- Distribution of numbers of cuts\n",
    "- Distribution of numbers of tools (how many resections had 1,2,3... cuts)\n",
    "- Number of examinations, resections, cuts per center\n",
    "\n",
    "Additionally, we will need the above analysis for two categories of subgroups:\n",
    "1. For each center  (we want to see if the data are the same or different in each center)\n",
    "2. For the two different types of snares. (We want to see if the use of snare impacts the number of cuts, I assume it does)\n",
    "\n",
    "It would be nice if the above were implemented in a class/functions that take list of dictionaries as inputs in the form that we have above.\n",
    "We want this because we will need to update the stats when new data comes.\n",
    "\n",
    "It would also be nice to save all these statistics each time we produce them with a filename that contains the date.\n",
    "This way we can monitor the evolution of our training data\n",
    "\n",
    "\n",
    "## ENJOY"
   ]
  },
  {
   "cell_type": "code",
   "execution_count": 6,
   "metadata": {},
   "outputs": [
    {
     "name": "stdout",
     "output_type": "stream",
     "text": [
      "The total number of cuts in the json file is 830\n",
      "The number of first cut (total number of polyps) in the file is 638\n",
      "The max polyp ID is 14\n",
      "The total number of unique filenames is 299\n",
      "The number of 0,1,2,... cuts is [0, 527, 82, 17, 5, 3, 0, 0, 1, 0, 0, 0, 2, 0, 0, 0, 0, 0, 0, 0, 0, 1]\n",
      "638\n"
     ]
    },
    {
     "data": {
      "image/png": "[encoded data removed]",
      "text/plain": [
       "<Figure size 432x288 with 1 Axes>"
      ]
     },
     "metadata": {
      "needs_background": "light"
     },
     "output_type": "display_data"
    }
   ],
   "source": [
    "# test functions \n",
    "from statistics_functions import StatisticsFunctions\n",
    "SF = StatisticsFunctions(annotations)\n",
    "number_of_cuts = SF.calculate_number_of_cuts()\n",
    "print(f\"The total number of cuts in the json file is {number_of_cuts}\")\n",
    "number_of_first_cut = SF.number_of_first_cut()\n",
    "print(f\"The number of first cut (total number of polyps) in the file is {number_of_first_cut}\")\n",
    "max_polyp_id= SF.max_polyp_id()\n",
    "print(f\"The max polyp ID is {max_polyp_id}\")\n",
    "get_all_filename = SF.get_all_filename()\n",
    "print(f\"The total number of unique filenames is {len(get_all_filename)}\")\n",
    "number_of_cuts = SF.number_of_cuts(data= get_all_filename, tool=\"all\") #pass\n",
    "distribution_number_of_cuts = SF.distribution_number_of_cuts(number_of_cuts)\n",
    "print(f\"The number of 0,1,2,... cuts is {distribution_number_of_cuts}\")\n",
    "print(sum(distribution_number_of_cuts)) #638\n",
    "\n",
    "SF.distribution_plot(number_of_cuts, title=\"all centers-all tools\")"
   ]
  },
  {
   "cell_type": "code",
   "execution_count": 7,
   "metadata": {},
   "outputs": [
    {
     "name": "stdout",
     "output_type": "stream",
     "text": [
      "The number of 0,1,2,... cuts with cold snare is [0, 424, 63, 16, 3, 3, 0, 0, 1, 0, 0, 0, 0, 0, 0, 0, 0, 0, 0, 0, 0, 1]\n",
      "The total number of cut with cold snare is 511\n"
     ]
    }
   ],
   "source": [
    "# Distribution of numbers of cut with cold snare\n",
    "number_of_cuts = SF.number_of_cuts(data= get_all_filename, tool=\"cold snare\") \n",
    "distribution_number_of_cuts = SF.distribution_number_of_cuts(number_of_cuts)\n",
    "print(f\"The number of 0,1,2,... cuts with cold snare is {distribution_number_of_cuts}\")\n",
    "print(f\"The total number of cut with cold snare is {sum(distribution_number_of_cuts)}\") #511"
   ]
  },
  {
   "cell_type": "code",
   "execution_count": 8,
   "metadata": {},
   "outputs": [
    {
     "name": "stdout",
     "output_type": "stream",
     "text": [
      "The number of 0,1,2,... cuts with hot snare is [0, 103, 19, 1, 2, 0, 0, 0, 0, 0, 0, 0, 2]\n",
      "The total number of cut with hot snare is 127\n"
     ]
    }
   ],
   "source": [
    "number_of_cuts = SF.number_of_cuts(data= get_all_filename, tool=\"hot snare\")\n",
    "distribution_number_of_cuts = SF.distribution_number_of_cuts(number_of_cuts)\n",
    "print(f\"The number of 0,1,2,... cuts with hot snare is {distribution_number_of_cuts}\")\n",
    "print(f\"The total number of cut with hot snare is {sum(distribution_number_of_cuts)}\") #127"
   ]
  },
  {
   "attachments": {},
   "cell_type": "markdown",
   "metadata": {},
   "source": []
  },
  {
   "cell_type": "code",
   "execution_count": 9,
   "metadata": {},
   "outputs": [
    {
     "name": "stdout",
     "output_type": "stream",
     "text": [
      "[1, 1, 2, 1, 1, 1, 1, 1, 1, 1, 1, 2, 1, 1, 1, 1, 1, 1, 1, 1, 1, 1, 1, 1, 1, 1, 1, 1, 1, 1, 1, 2, 1, 1, 2, 1, 1, 1, 1, 1, 1, 1, 2, 2, 1, 1, 3, 2, 1, 4, 1, 1, 1, 1, 1, 1, 1, 1, 1, 1, 2, 1, 1, 1, 1, 1, 3, 2, 1, 2, 2]\n",
      "[0, 57, 11, 2, 1]\n"
     ]
    }
   ],
   "source": [
    "from statistics_functions import StatisticsFunctions\n",
    "SF = StatisticsFunctions(annotations)\n",
    "Boeck_Center = SF.get_filename_by_center(Center=\"boeck\")\n",
    "#len(Boeck_Center) \n",
    "number_of_cuts = SF.number_of_cuts(data = Boeck_Center, tool=\"cold snare\") \n",
    "print(number_of_cuts)\n",
    "distribution_number_of_cuts = SF.distribution_number_of_cuts(number_of_cuts)\n",
    "print(distribution_number_of_cuts)"
   ]
  },
  {
   "cell_type": "code",
   "execution_count": null,
   "metadata": {},
   "outputs": [],
   "source": []
  }
 ],
 "metadata": {
  "kernelspec": {
   "display_name": "base",
   "language": "python",
   "name": "python3"
  },
  "language_info": {
   "codemirror_mode": {
    "name": "ipython",
    "version": 3
   },
   "file_extension": ".py",
   "mimetype": "text/x-python",
   "name": "python",
   "nbconvert_exporter": "python",
   "pygments_lexer": "ipython3",
   "version": "3.9.7"
  },
  "orig_nbformat": 4
 },
 "nbformat": 4,
 "nbformat_minor": 2
}
